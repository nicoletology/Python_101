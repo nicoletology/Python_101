{
  "nbformat": 4,
  "nbformat_minor": 0,
  "metadata": {
    "colab": {
      "name": "TP061817 Lab 3 - Task 1 - Model Performance.ipynb",
      "provenance": [],
      "collapsed_sections": [],
      "include_colab_link": true
    },
    "kernelspec": {
      "name": "python3",
      "display_name": "Python 3"
    }
  },
  "cells": [
    {
      "cell_type": "markdown",
      "metadata": {
        "id": "view-in-github",
        "colab_type": "text"
      },
      "source": [
        "<a href=\"https://colab.research.google.com/github/nicoletology/Python_101/blob/main/TP061817_Lab_3_Task_1_Model_Performance.ipynb\" target=\"_parent\"><img src=\"https://colab.research.google.com/assets/colab-badge.svg\" alt=\"Open In Colab\"/></a>"
      ]
    },
    {
      "cell_type": "markdown",
      "metadata": {
        "id": "AuZvEqEG72hd"
      },
      "source": [
        "# Case Study: Online Shopper Data Preparation\n",
        "\n",
        "Session: Lab3\\\n",
        "Date: 5 October 2021\n",
        "\n",
        "Aim: Evaluate the predictive performance of baseline Sequential NN. \n",
        "\n",
        "Objectives:\n",
        "1. To perform model predictions.\n",
        "2. To compute evaluation metrics.\n",
        "3. To draw and save performance plots.\n",
        "4. To analyse the performance of model. \n",
        "\n",
        "\n",
        "[Data Set](https://www.kaggle.com/henrysue/online-shoppers-intention):\\\n",
        "This is a preprocessed dataset. Some of the variables are dropped. All variables are converted to numeric. Revenue is the target variable. It is a factorial variable converted to numeric. This is a classification problem.\n"
      ]
    },
    {
      "cell_type": "markdown",
      "metadata": {
        "id": "k8hjYWTRDdpP"
      },
      "source": [
        "## 1. Data Preparation\n"
      ]
    },
    {
      "cell_type": "code",
      "metadata": {
        "id": "GwKjjRksjUb3"
      },
      "source": [
        "#Import the Dependencies\n",
        "import pandas as pd #data wrangling\n",
        "import numpy as np #for scientific computing\n",
        "from sklearn.model_selection import train_test_split\n",
        "import seaborn as sns #for visualisation\n",
        "import matplotlib.pyplot as plt #for visualisation\n",
        "import tensorflow as tf # for deep learning\n",
        "import keras #high level API for Deep Learning\n",
        "\n",
        "keras.backend.clear_session()"
      ],
      "execution_count": null,
      "outputs": []
    },
    {
      "cell_type": "code",
      "metadata": {
        "id": "okrvJJ6z8dzY"
      },
      "source": [
        "#Configuring the Dataset view\n",
        "pd.set_option('display.max_rows', 50) \n",
        "pd.set_option('display.max_columns', 100) \n",
        "pd.set_option('display.width', 1000)"
      ],
      "execution_count": null,
      "outputs": []
    },
    {
      "cell_type": "code",
      "metadata": {
        "id": "CunITUivkQMJ"
      },
      "source": [
        "train_full = pd.read_csv('https://raw.githubusercontent.com/nicoletology/Dataset-for-DL-lab/main/online_shop_train.csv?token=ASQOLHRAYPJMR6XDE657W33BMWSMY')\n",
        "test = pd.read_csv('https://raw.githubusercontent.com/nicoletology/Dataset-for-DL-lab/main/online_shop_test.csv?token=ASQOLHUD54SP7MZ4MFB5LDLBMWLJI')\n"
      ],
      "execution_count": null,
      "outputs": []
    },
    {
      "cell_type": "code",
      "metadata": {
        "id": "lBBpaut3jzPH",
        "colab": {
          "base_uri": "https://localhost:8080/"
        },
        "outputId": "52b724b1-92f0-43e3-f4b6-385ec70d8c72"
      },
      "source": [
        "train_full.shape"
      ],
      "execution_count": null,
      "outputs": [
        {
          "output_type": "execute_result",
          "data": {
            "text/plain": [
              "(16626, 13)"
            ]
          },
          "metadata": {},
          "execution_count": 5
        }
      ]
    },
    {
      "cell_type": "code",
      "metadata": {
        "id": "6JABmSiUnm9B",
        "colab": {
          "base_uri": "https://localhost:8080/"
        },
        "outputId": "9b0f364f-997a-45ac-97ff-28e36b149965"
      },
      "source": [
        "test.shape"
      ],
      "execution_count": null,
      "outputs": [
        {
          "output_type": "execute_result",
          "data": {
            "text/plain": [
              "(2466, 13)"
            ]
          },
          "metadata": {},
          "execution_count": 6
        }
      ]
    },
    {
      "cell_type": "markdown",
      "metadata": {
        "id": "ocmgL_cTC1GH"
      },
      "source": [
        "VisitorType0 & VisitorType1 are one-hot encoded variables, so the datatype should be integer instead of float."
      ]
    },
    {
      "cell_type": "code",
      "metadata": {
        "id": "tv8JD-IpOf27"
      },
      "source": [
        "# Changing the data types of VisitorType0 & VisitorType1 \n",
        "train_full.VisitorType0 = train_full.VisitorType0.astype(int)\n",
        "train_full.VisitorType1 = train_full.VisitorType0.astype(int)"
      ],
      "execution_count": null,
      "outputs": []
    },
    {
      "cell_type": "code",
      "metadata": {
        "id": "OgAS_CHnO7I7",
        "colab": {
          "base_uri": "https://localhost:8080/"
        },
        "outputId": "fe8251d4-d8a9-456d-c1ea-8877e26f53a3"
      },
      "source": [
        "train_full.info()"
      ],
      "execution_count": null,
      "outputs": [
        {
          "output_type": "stream",
          "name": "stdout",
          "text": [
            "<class 'pandas.core.frame.DataFrame'>\n",
            "RangeIndex: 16626 entries, 0 to 16625\n",
            "Data columns (total 13 columns):\n",
            " #   Column          Non-Null Count  Dtype  \n",
            "---  ------          --------------  -----  \n",
            " 0   Administrative  16626 non-null  int64  \n",
            " 1   Informational   16626 non-null  int64  \n",
            " 2   ProductRelated  16626 non-null  int64  \n",
            " 3   ExitRates       16626 non-null  float64\n",
            " 4   PageValues      16626 non-null  float64\n",
            " 5   SpecialDay      16626 non-null  float64\n",
            " 6   Month           16626 non-null  int64  \n",
            " 7   Region          16626 non-null  int64  \n",
            " 8   TrafficType     16626 non-null  int64  \n",
            " 9   VisitorType0    16626 non-null  int64  \n",
            " 10  VisitorType1    16626 non-null  int64  \n",
            " 11  Weekend         16626 non-null  int64  \n",
            " 12  Revenue         16626 non-null  int64  \n",
            "dtypes: float64(3), int64(10)\n",
            "memory usage: 1.6 MB\n"
          ]
        }
      ]
    },
    {
      "cell_type": "markdown",
      "metadata": {
        "id": "ni7YA8YyDN3i"
      },
      "source": [
        "The data types of VisitorType0 & VisitorType1 are corrected. "
      ]
    },
    {
      "cell_type": "markdown",
      "metadata": {
        "id": "PQngPOUUExwd"
      },
      "source": [
        "## 2. Model Building\n",
        "### i. Data Preparation \n",
        "- Train-Val Split\n",
        "- Define X, y Variables"
      ]
    },
    {
      "cell_type": "markdown",
      "metadata": {
        "id": "kBi7ueZETxBV"
      },
      "source": [
        "**Train-Test Split - Stratified Sampling**\n",
        "using [sklearn](https://scikit-learn.org/stable/modules/generated/sklearn.model_selection.train_test_split.html) functions\n",
        "\n",
        "Parameters: arrays, test_size, train_size, random_state, shuffle, stratify\\\n",
        "*By default, the sampling is stratified as long as the random state is specified.*"
      ]
    },
    {
      "cell_type": "code",
      "metadata": {
        "id": "Ajcyondzbn_v"
      },
      "source": [
        "from sklearn.model_selection import train_test_split"
      ],
      "execution_count": null,
      "outputs": []
    },
    {
      "cell_type": "code",
      "metadata": {
        "id": "FOq8Si9eb6ev"
      },
      "source": [
        "# train-test split\n",
        "train_stratified, val_stratified = train_test_split(train_full, test_size = 0.20, random_state = 0)"
      ],
      "execution_count": null,
      "outputs": []
    },
    {
      "cell_type": "markdown",
      "metadata": {
        "id": "2IXplyUXtysC"
      },
      "source": [
        "**Define Variables - X, y**\n",
        "\n",
        "We have 3 datasets:\n",
        "1. train_stratified\n",
        "2. val_stratified\n",
        "3. test\n",
        "\n",
        "Thus, we need to assign 6 Objects (3 datasets into X and y)."
      ]
    },
    {
      "cell_type": "code",
      "metadata": {
        "id": "IouJqSMXs9JR"
      },
      "source": [
        "#Define the input and target variables for train_stratified Dataset\n",
        "X_train = train_stratified.iloc[:,:-1] #numpy function for subsetting the variables\n",
        "y_train = train_stratified.iloc[:,-1]"
      ],
      "execution_count": null,
      "outputs": []
    },
    {
      "cell_type": "code",
      "metadata": {
        "id": "bXvYP3ANut2X"
      },
      "source": [
        "#Define the input and target variables for Training Dataset\n",
        "X_val = val_stratified.iloc[:,:-1] #numpy function for subsetting the variables\n",
        "y_val = val_stratified.iloc[:,-1]"
      ],
      "execution_count": null,
      "outputs": []
    },
    {
      "cell_type": "code",
      "metadata": {
        "id": "j5KY8zxwtFpu"
      },
      "source": [
        "#Define the input and target variables for Testing Dataset\n",
        "X_test = test.iloc[:,:-1] #select all columns from 0 except the last colomn\n",
        "y_test = test.iloc[:,-1] #select only the last colomn"
      ],
      "execution_count": null,
      "outputs": []
    },
    {
      "cell_type": "code",
      "metadata": {
        "id": "7BRnncvdusiF"
      },
      "source": [
        "#Define the input and target variables for Training Dataset\n",
        "X_train_full = train_full.iloc[:,:-1] #numpy function for subsetting the variables\n",
        "y_train_full = train_full.iloc[:,-1]"
      ],
      "execution_count": null,
      "outputs": []
    },
    {
      "cell_type": "code",
      "metadata": {
        "id": "QIXBc3UFtUiO",
        "colab": {
          "base_uri": "https://localhost:8080/",
          "height": 204
        },
        "outputId": "f5e6d8ac-89f8-43a3-d2e6-b88019169c3c"
      },
      "source": [
        "X_test.head()"
      ],
      "execution_count": null,
      "outputs": [
        {
          "output_type": "execute_result",
          "data": {
            "text/html": [
              "<div>\n",
              "<style scoped>\n",
              "    .dataframe tbody tr th:only-of-type {\n",
              "        vertical-align: middle;\n",
              "    }\n",
              "\n",
              "    .dataframe tbody tr th {\n",
              "        vertical-align: top;\n",
              "    }\n",
              "\n",
              "    .dataframe thead th {\n",
              "        text-align: right;\n",
              "    }\n",
              "</style>\n",
              "<table border=\"1\" class=\"dataframe\">\n",
              "  <thead>\n",
              "    <tr style=\"text-align: right;\">\n",
              "      <th></th>\n",
              "      <th>Administrative</th>\n",
              "      <th>Informational</th>\n",
              "      <th>ProductRelated</th>\n",
              "      <th>ExitRates</th>\n",
              "      <th>PageValues</th>\n",
              "      <th>SpecialDay</th>\n",
              "      <th>Month</th>\n",
              "      <th>Region</th>\n",
              "      <th>TrafficType</th>\n",
              "      <th>VisitorType0</th>\n",
              "      <th>VisitorType1</th>\n",
              "      <th>Weekend</th>\n",
              "    </tr>\n",
              "  </thead>\n",
              "  <tbody>\n",
              "    <tr>\n",
              "      <th>0</th>\n",
              "      <td>0</td>\n",
              "      <td>0</td>\n",
              "      <td>15</td>\n",
              "      <td>0.014286</td>\n",
              "      <td>14.554286</td>\n",
              "      <td>0.0</td>\n",
              "      <td>5</td>\n",
              "      <td>3</td>\n",
              "      <td>2</td>\n",
              "      <td>0.0</td>\n",
              "      <td>1.0</td>\n",
              "      <td>0</td>\n",
              "    </tr>\n",
              "    <tr>\n",
              "      <th>1</th>\n",
              "      <td>1</td>\n",
              "      <td>0</td>\n",
              "      <td>6</td>\n",
              "      <td>0.028571</td>\n",
              "      <td>38.273312</td>\n",
              "      <td>0.0</td>\n",
              "      <td>7</td>\n",
              "      <td>1</td>\n",
              "      <td>4</td>\n",
              "      <td>0.0</td>\n",
              "      <td>0.0</td>\n",
              "      <td>0</td>\n",
              "    </tr>\n",
              "    <tr>\n",
              "      <th>2</th>\n",
              "      <td>2</td>\n",
              "      <td>2</td>\n",
              "      <td>19</td>\n",
              "      <td>0.031677</td>\n",
              "      <td>15.527034</td>\n",
              "      <td>0.0</td>\n",
              "      <td>11</td>\n",
              "      <td>4</td>\n",
              "      <td>2</td>\n",
              "      <td>0.0</td>\n",
              "      <td>1.0</td>\n",
              "      <td>0</td>\n",
              "    </tr>\n",
              "    <tr>\n",
              "      <th>3</th>\n",
              "      <td>16</td>\n",
              "      <td>0</td>\n",
              "      <td>52</td>\n",
              "      <td>0.018264</td>\n",
              "      <td>0.000000</td>\n",
              "      <td>0.0</td>\n",
              "      <td>5</td>\n",
              "      <td>1</td>\n",
              "      <td>2</td>\n",
              "      <td>0.0</td>\n",
              "      <td>1.0</td>\n",
              "      <td>0</td>\n",
              "    </tr>\n",
              "    <tr>\n",
              "      <th>4</th>\n",
              "      <td>0</td>\n",
              "      <td>0</td>\n",
              "      <td>52</td>\n",
              "      <td>0.032692</td>\n",
              "      <td>0.000000</td>\n",
              "      <td>1.0</td>\n",
              "      <td>5</td>\n",
              "      <td>7</td>\n",
              "      <td>6</td>\n",
              "      <td>0.0</td>\n",
              "      <td>1.0</td>\n",
              "      <td>1</td>\n",
              "    </tr>\n",
              "  </tbody>\n",
              "</table>\n",
              "</div>"
            ],
            "text/plain": [
              "   Administrative  Informational  ProductRelated  ExitRates  PageValues  SpecialDay  Month  Region  TrafficType  VisitorType0  VisitorType1  Weekend\n",
              "0               0              0              15   0.014286   14.554286         0.0      5       3            2           0.0           1.0        0\n",
              "1               1              0               6   0.028571   38.273312         0.0      7       1            4           0.0           0.0        0\n",
              "2               2              2              19   0.031677   15.527034         0.0     11       4            2           0.0           1.0        0\n",
              "3              16              0              52   0.018264    0.000000         0.0      5       1            2           0.0           1.0        0\n",
              "4               0              0              52   0.032692    0.000000         1.0      5       7            6           0.0           1.0        1"
            ]
          },
          "metadata": {},
          "execution_count": 17
        }
      ]
    },
    {
      "cell_type": "code",
      "metadata": {
        "id": "CFn_CugptcU8",
        "colab": {
          "base_uri": "https://localhost:8080/"
        },
        "outputId": "0feb7d9c-80f3-4b48-a8aa-04978e6c3b51"
      },
      "source": [
        "y_test.head()"
      ],
      "execution_count": null,
      "outputs": [
        {
          "output_type": "execute_result",
          "data": {
            "text/plain": [
              "0    1\n",
              "1    1\n",
              "2    1\n",
              "3    0\n",
              "4    0\n",
              "Name: Revenue, dtype: int64"
            ]
          },
          "metadata": {},
          "execution_count": 18
        }
      ]
    },
    {
      "cell_type": "code",
      "metadata": {
        "id": "pL8fHwvlvsEk",
        "colab": {
          "base_uri": "https://localhost:8080/"
        },
        "outputId": "7e71c137-c8ab-43bf-8315-30166bb71b33"
      },
      "source": [
        "y_train_full.shape"
      ],
      "execution_count": null,
      "outputs": [
        {
          "output_type": "execute_result",
          "data": {
            "text/plain": [
              "(16626,)"
            ]
          },
          "metadata": {},
          "execution_count": 19
        }
      ]
    },
    {
      "cell_type": "markdown",
      "metadata": {
        "id": "7xzpqycnGtGS"
      },
      "source": [
        "### ii. Data Processing - Data Type of Target Variable"
      ]
    },
    {
      "cell_type": "markdown",
      "metadata": {
        "id": "0ggIxYXBt8Cl"
      },
      "source": [
        "**One Hot Encode Target Variable For Classification**\\\n",
        "To use Keras for classification problem, \n",
        "- if we have multiclass target variable (more than 2 classes), it is necessary to treat the variable with *One-Hot Encoding* before modelling. \n",
        "- if we have 2-class target variable, it is not necessary to convert the target variable to categorical. Instead, we can use *binary cross entropy* at *compiling* stage\n"
      ]
    },
    {
      "cell_type": "code",
      "metadata": {
        "id": "jEzLEtGX0G51"
      },
      "source": [
        "# Sample Code for Onehot Encoding\n",
        "y_train_full_encode = tf.keras.utils.to_categorical(y_train_full, num_classes=None, dtype=\"int\")"
      ],
      "execution_count": null,
      "outputs": []
    },
    {
      "cell_type": "code",
      "metadata": {
        "id": "Y0-6M11KIYPA",
        "colab": {
          "base_uri": "https://localhost:8080/"
        },
        "outputId": "7a177a4b-8137-46a6-d1bc-8c1d205cbd7d"
      },
      "source": [
        "y_train_full_encode.shape"
      ],
      "execution_count": null,
      "outputs": [
        {
          "output_type": "execute_result",
          "data": {
            "text/plain": [
              "(16626, 2)"
            ]
          },
          "metadata": {},
          "execution_count": 21
        }
      ]
    },
    {
      "cell_type": "code",
      "metadata": {
        "id": "FO985rw2I_wd",
        "colab": {
          "base_uri": "https://localhost:8080/"
        },
        "outputId": "875f87d9-957c-4010-d523-f6b6b104c412"
      },
      "source": [
        "y_train_full_encode[0:5] #showing the one hot encoded values as array"
      ],
      "execution_count": null,
      "outputs": [
        {
          "output_type": "execute_result",
          "data": {
            "text/plain": [
              "array([[1, 0],\n",
              "       [1, 0],\n",
              "       [1, 0],\n",
              "       [0, 1],\n",
              "       [1, 0]])"
            ]
          },
          "metadata": {},
          "execution_count": 22
        }
      ]
    },
    {
      "cell_type": "code",
      "metadata": {
        "id": "QXjPfjZAJzzd"
      },
      "source": [
        "# Onehot Encoding\n",
        "y_train_encode = tf.keras.utils.to_categorical(y_train, num_classes=None, dtype=\"int\")\n",
        "y_val_encode = tf.keras.utils.to_categorical(y_val, num_classes=None, dtype=\"int\")\n",
        "y_test_encode =  tf.keras.utils.to_categorical(y_test, num_classes=None, dtype=\"int\")"
      ],
      "execution_count": null,
      "outputs": []
    },
    {
      "cell_type": "code",
      "metadata": {
        "id": "aDCTWqmQJ-Hf",
        "colab": {
          "base_uri": "https://localhost:8080/"
        },
        "outputId": "32782966-8084-4078-a910-59815cbb5a81"
      },
      "source": [
        "y_test_encode"
      ],
      "execution_count": null,
      "outputs": [
        {
          "output_type": "execute_result",
          "data": {
            "text/plain": [
              "array([[0, 1],\n",
              "       [0, 1],\n",
              "       [0, 1],\n",
              "       ...,\n",
              "       [1, 0],\n",
              "       [1, 0],\n",
              "       [1, 0]])"
            ]
          },
          "metadata": {},
          "execution_count": 24
        }
      ]
    },
    {
      "cell_type": "markdown",
      "metadata": {
        "id": "1BnmzyZVX9nl"
      },
      "source": [
        "### iii. Create a Baseline Sequential Network using Keras Process Flow\n",
        "\n",
        "Sequential model is the simplest kind of Keras Model for Neural Networks. \\\n",
        "It consists of a single stack of layers, connected sequentially. \n",
        "\n"
      ]
    },
    {
      "cell_type": "code",
      "metadata": {
        "id": "Phy_LeiYxvzl"
      },
      "source": [
        "import tensorflow as tf # Python API for deep learning"
      ],
      "execution_count": null,
      "outputs": []
    },
    {
      "cell_type": "code",
      "metadata": {
        "id": "U4DzplB7yKtq",
        "colab": {
          "base_uri": "https://localhost:8080/",
          "height": 36
        },
        "outputId": "ada0f0b3-4f71-46ff-8f78-853b7d4372b6"
      },
      "source": [
        "tf.__version__ #checking the version of TensorFlow"
      ],
      "execution_count": null,
      "outputs": [
        {
          "output_type": "execute_result",
          "data": {
            "application/vnd.google.colaboratory.intrinsic+json": {
              "type": "string"
            },
            "text/plain": [
              "'2.6.0'"
            ]
          },
          "metadata": {},
          "execution_count": 26
        }
      ]
    },
    {
      "cell_type": "code",
      "metadata": {
        "id": "gi9-J_jPx6fh"
      },
      "source": [
        "import keras #high level API for Deep Learning"
      ],
      "execution_count": null,
      "outputs": []
    },
    {
      "cell_type": "code",
      "metadata": {
        "id": "X8pM_L-XykOz",
        "colab": {
          "base_uri": "https://localhost:8080/",
          "height": 36
        },
        "outputId": "965a6a57-30f4-433e-b5e4-3a3efe8151c7"
      },
      "source": [
        "keras.__version__ # checking version of keras"
      ],
      "execution_count": null,
      "outputs": [
        {
          "output_type": "execute_result",
          "data": {
            "application/vnd.google.colaboratory.intrinsic+json": {
              "type": "string"
            },
            "text/plain": [
              "'2.6.0'"
            ]
          },
          "metadata": {},
          "execution_count": 28
        }
      ]
    },
    {
      "cell_type": "code",
      "metadata": {
        "id": "231nF2w9KSm_"
      },
      "source": [
        "from keras.models import Sequential\n",
        "from keras.layers import Dense\n",
        "from keras.utils.vis_utils import plot_model"
      ],
      "execution_count": null,
      "outputs": []
    },
    {
      "cell_type": "markdown",
      "metadata": {
        "id": "pxD8WbDKTi2a"
      },
      "source": [
        "**Keras Step 1 : Define Network**\n",
        "1. Add a [Dense](https://keras.io/api/layers/core_layers/dense/) hidden layer with 512 neurons.\n",
        "2. Add [Layer weight initializer](https://keras.io/api/layers/initializers/): \n",
        "- it will use he_uniform initializer - variance scaling initializer. It draws samples from a uniform distribution within [-limit, limit], where limit = sqrt(6 / fan_in) (fan_in is the number of input units in the weight tensor).\n",
        "3. Add [Layer activation function](https://keras.io/api/layers/activations/)\n",
        "- it will use ReLU activation function - rectified linear unit activation function. With default values, this returns the standard ReLU activation: max(x, 0), the element-wise maximum of 0 and the input tensor.\n",
        "- Output layer will use Softmax activation function (because the classes are exclusive.\n",
        "\n"
      ]
    },
    {
      "cell_type": "code",
      "metadata": {
        "id": "bF30ScDwKyfe",
        "colab": {
          "base_uri": "https://localhost:8080/"
        },
        "outputId": "cdd4973c-eb27-49eb-b130-ee76f9108564"
      },
      "source": [
        "def create_baseline():\n",
        "    #Initializing Neural Network\n",
        "    classifier = Sequential()\n",
        "\n",
        "    ## STEP 1: Defining the architecture of ANN\n",
        "    # First layer \n",
        "    # dim = 12 because we have 12 variables (only applicable to first layer)\n",
        "    classifier.add(Dense(units = 512, kernel_initializer = 'he_uniform', activation = 'relu', input_dim = 12)) \n",
        "    # Second layer\n",
        "    classifier.add(Dense(units= 128 , kernel_initializer = 'he_uniform', activation = 'relu'))\n",
        "    # Third layer\n",
        "    classifier.add(Dense(units= 96, kernel_initializer = 'he_uniform', activation = 'relu'))\n",
        "    # Adding the output layer\n",
        "    classifier.add(Dense(units = 2, kernel_initializer = 'he_uniform', activation = 'softmax'))\n",
        "    \n",
        "    return classifier\n",
        "\n",
        "#model = create_baseline()\n",
        "model1a = create_baseline()\n",
        "model1b = create_baseline()\n",
        "print(model1a.summary())\n",
        "#plot_model(model, to_file='model_plot.png', show_shapes=True, show_layer_names=True)"
      ],
      "execution_count": null,
      "outputs": [
        {
          "output_type": "stream",
          "name": "stdout",
          "text": [
            "Model: \"sequential\"\n",
            "_________________________________________________________________\n",
            "Layer (type)                 Output Shape              Param #   \n",
            "=================================================================\n",
            "dense (Dense)                (None, 512)               6656      \n",
            "_________________________________________________________________\n",
            "dense_1 (Dense)              (None, 128)               65664     \n",
            "_________________________________________________________________\n",
            "dense_2 (Dense)              (None, 96)                12384     \n",
            "_________________________________________________________________\n",
            "dense_3 (Dense)              (None, 2)                 194       \n",
            "=================================================================\n",
            "Total params: 84,898\n",
            "Trainable params: 84,898\n",
            "Non-trainable params: 0\n",
            "_________________________________________________________________\n",
            "None\n"
          ]
        }
      ]
    },
    {
      "cell_type": "code",
      "metadata": {
        "id": "sTJQfUNy-oPY",
        "colab": {
          "base_uri": "https://localhost:8080/",
          "height": 533
        },
        "outputId": "33a2185f-eb7f-4e71-f78c-594ae90f7f64"
      },
      "source": [
        "plot_model(model1a, to_file='model_plot.png', show_shapes=True, show_layer_names=True)"
      ],
      "execution_count": null,
      "outputs": [
        {
          "output_type": "execute_result",
          "data": {
            "image/png": "[encoded data removed]",
            "text/plain": [
              "<IPython.core.display.Image object>"
            ]
          },
          "metadata": {},
          "execution_count": 31
        }
      ]
    },
    {
      "cell_type": "markdown",
      "metadata": {
        "id": "8B_5P2GUI3Jw"
      },
      "source": [
        "**Keras Step 2 : Compile Network**\n",
        "1. Add [optimizers](https://keras.io/api/optimizers/). \n",
        "2. Add [losses](https://keras.io/api/losses/). The purpose of loss functions is to compute the quantity that a model should seek to minimize during training.\n",
        "3. Add [metrics](https://keras.io/api/metrics/). A metric is a function that is used to judge the performance of your model. Metric functions are similar to loss functions, except that the results from evaluating a metric are not used when training the model. Note that you may use any loss function as a metric."
      ]
    },
    {
      "cell_type": "code",
      "metadata": {
        "id": "w7yq6hZXI9Z6"
      },
      "source": [
        "## STEP 2: Compiling Neural Network\n",
        "# specifying optimizer \n",
        "# This is the metaparameter, specfiying the metaparameter , (adam is popular optimizer like SGD, and GD, \n",
        "# the binary_corssentropy is because it has 2 class)\n",
        "#model.compile(optimizer = 'adam', loss = 'categorical_crossentropy', metrics = ['accuracy'])\n",
        "model1a.compile(optimizer = 'adam', loss = 'categorical_crossentropy', metrics = ['accuracy'])\n",
        "model1b.compile(optimizer = 'adam', loss = 'categorical_crossentropy', metrics = ['accuracy'])\n",
        "\n"
      ],
      "execution_count": null,
      "outputs": []
    },
    {
      "cell_type": "markdown",
      "metadata": {
        "id": "67IQIMNYaaj7"
      },
      "source": [
        "**Keras Step 3 : [Fit](https://keras.io/api/models/model_training_apis/) Network**\n",
        "\n",
        "Experiment:\n",
        "- use Keras inbuilt train-validation split (non-stratified)\n",
        "- use manual train-validation split (stratified)\n",
        "\n"
      ]
    },
    {
      "cell_type": "code",
      "metadata": {
        "id": "dMzONlt8TEXI"
      },
      "source": [
        "#Sample Code\n",
        "#validation split - internal validation split of 20%. In this the last 20% of the rows are used for \n",
        "#epochs - 50\n",
        "#model.fit(X_train_full,y_train_full_encode, validation_split=0.2, epochs=50)"
      ],
      "execution_count": null,
      "outputs": []
    },
    {
      "cell_type": "code",
      "metadata": {
        "id": "NPio2aQW0Vjv"
      },
      "source": [
        "keras.backend.clear_session()\n",
        "import numpy as np"
      ],
      "execution_count": null,
      "outputs": []
    },
    {
      "cell_type": "code",
      "metadata": {
        "id": "2JpYm0pVLssw",
        "colab": {
          "base_uri": "https://localhost:8080/"
        },
        "outputId": "7ca5224f-1fff-4b75-e081-7fd1620f7db2"
      },
      "source": [
        "#use Keras inbuilt train-validation split (non-stratified)\n",
        "SeqNN_1a = model1a.fit(X_train_full, y_train_full_encode, validation_split=0.2, epochs = 50,  batch_size = 32, verbose = 0)\n",
        "\n",
        "#display the max accuracy and loss\n",
        "acc_train = SeqNN_1a.history['accuracy']\n",
        "max_acc_train = max(acc_train)\n",
        "\n",
        "loss_train = SeqNN_1a.history['loss']\n",
        "min_loss_train = min(loss_train)\n",
        "\n",
        "print(\"Network Performance:\")\n",
        "print(\"Best Accuracy - %.2f \" % (max_acc_train*100),'%')\n",
        "print(\"Best Loss - %.2f \" % (min_loss_train*100),'%')\n",
        "\n",
        "#display the best validation network performance\n",
        "acc_val = SeqNN_1a.history['val_accuracy']\n",
        "max_acc_val = max(acc_val)\n",
        "\n",
        "loss_val = SeqNN_1a.history['val_loss']\n",
        "min_loss_val = min(loss_val)\n",
        "\n",
        "print(\"Best Validation Accuracy - %.2f \" % (max_acc_val*100),'%')\n",
        "print(\"Best Validation Loss - %.2f \" % (min_loss_val*100),'%')\n",
        "\n",
        "#Evaluate network on test data\n",
        "print(\"Evaluate on test data\")\n",
        "results = model1a.evaluate(X_test, y_test_encode, batch_size=32)\n",
        "print(\"test loss, test acc: \" , results)\n"
      ],
      "execution_count": null,
      "outputs": [
        {
          "output_type": "stream",
          "name": "stdout",
          "text": [
            "Network Performance:\n",
            "Best Accuracy - 87.32  %\n",
            "Best Loss - 29.14  %\n",
            "Best Validation Accuracy - 90.59  %\n",
            "Best Validation Loss - 27.56  %\n",
            "Evaluate on test data\n",
            "78/78 [==============================] - 0s 1ms/step - loss: 0.2939 - accuracy: 0.8775\n",
            "test loss, test acc:  [0.29391753673553467, 0.8775344491004944]\n"
          ]
        }
      ]
    },
    {
      "cell_type": "code",
      "metadata": {
        "id": "QIpbN5pmNPJp"
      },
      "source": [
        "#historyX = model.fit(X_train_full, y_train_full, validation_split=0.2, epochs = 50,  batch_size = 32, verbose = 1)   \n",
        "#Note: just trying out the non-onehot encoded target variable. it does not work. "
      ],
      "execution_count": null,
      "outputs": []
    },
    {
      "cell_type": "code",
      "metadata": {
        "colab": {
          "base_uri": "https://localhost:8080/"
        },
        "id": "v9Zw_Ts0yTXK",
        "outputId": "3d327a67-760a-4e36-fb4c-6fa34d9021f6"
      },
      "source": [
        "#use manual train-validation split (stratified)\n",
        "SeqNN_1b = model1b.fit(X_train, y_train_encode, validation_data= (X_val, y_val_encode), epochs = 50,  batch_size = 32, verbose = 0)\n",
        "\n",
        "#display the best training network performance\n",
        "acc_train = SeqNN_1b.history['accuracy']\n",
        "max_acc_train = max(acc_train)\n",
        "\n",
        "loss_train = SeqNN_1b.history['loss']\n",
        "min_loss_train = min(loss_train)\n",
        "\n",
        "print(\"Network Performance:\")\n",
        "print(\"Best Training Accuracy - %.2f \" % (max_acc_train*100),'%')\n",
        "print(\"Best Training Loss - %.2f \" % (min_loss_train*100),'%')\n",
        "\n",
        "#display the best validation network performance\n",
        "acc_val = SeqNN_1b.history['val_accuracy']\n",
        "max_acc_val = max(acc_val)\n",
        "\n",
        "loss_val = SeqNN_1b.history['val_loss']\n",
        "min_loss_val = min(loss_val)\n",
        "\n",
        "print(\"Best Validation Accuracy - %.2f \" % (max_acc_val*100),'%')\n",
        "print(\"Best Validation Loss - %.2f \" % (min_loss_val*100),'%')\n",
        "\n",
        "#Evaluate network on test data\n",
        "print(\"Evaluate on test data\")\n",
        "results = model1b.evaluate(X_test, y_test_encode, batch_size=32)\n",
        "print(\"Test loss, Test accuracy: \" , results)"
      ],
      "execution_count": null,
      "outputs": [
        {
          "output_type": "stream",
          "name": "stdout",
          "text": [
            "Network Performance:\n",
            "Best Training Accuracy - 87.70  %\n",
            "Best Training Loss - 28.94  %\n",
            "Best Validation Accuracy - 86.53  %\n",
            "Best Validation Loss - 30.69  %\n",
            "Evaluate on test data\n",
            "78/78 [==============================] - 0s 1ms/step - loss: 0.3341 - accuracy: 0.8609\n",
            "Test loss, Test accuracy:  [0.33405911922454834, 0.8609083294868469]\n"
          ]
        }
      ]
    },
    {
      "cell_type": "markdown",
      "metadata": {
        "id": "l3NTWCxnLwLI"
      },
      "source": [
        "**Keras Step 4 : Evaluate Network**"
      ]
    },
    {
      "cell_type": "code",
      "metadata": {
        "id": "PKJ4y2P_MZiQ"
      },
      "source": [
        "import pandas as pd\n",
        "import matplotlib.pyplot as plt"
      ],
      "execution_count": null,
      "outputs": []
    },
    {
      "cell_type": "code",
      "metadata": {
        "id": "p8w9OGqxSNvc",
        "colab": {
          "base_uri": "https://localhost:8080/",
          "height": 336
        },
        "outputId": "50a0aa71-f089-4310-a95f-694c1ea2257b"
      },
      "source": [
        "#Plotting the evaluation graph\n",
        "pd.DataFrame(SeqNN_1a.history).plot(figsize=(8, 5))\n",
        "plt.title(\"SeqNN_1a: Non-stratified Sampling\")\n",
        "plt.grid(True)\n",
        "plt.gca().set_ylim(0, 1)\n",
        "#plt.savefig ('/content/drive/My Drive/Colab Notebooks/output.png')\n",
        "plt.show()"
      ],
      "execution_count": null,
      "outputs": [
        {
          "output_type": "display_data",
          "data": {
            "image/png": "[encoded data removed]",
            "text/plain": [
              "<Figure size 576x360 with 1 Axes>"
            ]
          },
          "metadata": {
            "needs_background": "light"
          }
        }
      ]
    },
    {
      "cell_type": "markdown",
      "metadata": {
        "id": "Mi8l2cbdP04L"
      },
      "source": [
        "The graph: Pretty well behaved\n",
        "\n",
        "*Training Loss and Training Accuracy* : \n",
        "- The training accuracy is increasing and plateau at 0.9\n",
        "- The training loss is going down to 0.3 (still high). *how to improve it?*\n",
        "\n",
        "*Validation Loss and Validation Accuracy*\n",
        "- both are unstable (not smooth), the huge spikes could be due to\n",
        "> - sampling of validation data\n",
        "> - large **learning rate**\n",
        "\n",
        "\n"
      ]
    },
    {
      "cell_type": "code",
      "metadata": {
        "colab": {
          "base_uri": "https://localhost:8080/",
          "height": 336
        },
        "id": "ObC4r1Iqzk8E",
        "outputId": "9485379e-485c-4251-9101-8eb070effc9d"
      },
      "source": [
        "#Plotting the evaluation graph\n",
        "pd.DataFrame(SeqNN_1b.history).plot(figsize=(8, 5))\n",
        "plt.title(\"SeqNN_1b: Stratified Sampling\")\n",
        "plt.grid(True)\n",
        "plt.gca().set_ylim(0, 1)\n",
        "#plt.savefig ('/content/drive/My Drive/Colab Notebooks/output.png')\n",
        "plt.show()"
      ],
      "execution_count": null,
      "outputs": [
        {
          "output_type": "display_data",
          "data": {
            "image/png": "[encoded data removed]",
            "text/plain": [
              "<Figure size 576x360 with 1 Axes>"
            ]
          },
          "metadata": {
            "needs_background": "light"
          }
        }
      ]
    },
    {
      "cell_type": "markdown",
      "metadata": {
        "id": "y1iTiw9r9mBU"
      },
      "source": [
        "The graph: Pretty well behaved\n",
        "\n",
        "*Training Loss and Training Accuracy* : \n",
        "- The training accuracy is increasing and plateau at 0.9\n",
        "- The training loss is going down to 0.3 (still high). *how to improve it?*\n",
        "\n",
        "*Validation Loss and Validation Accuracy* are smoother compared to SeqNN_1a. \n",
        "\n",
        "Conclusion:  \n",
        "> The sampling of validation data has significant impact on training of NN. "
      ]
    },
    {
      "cell_type": "markdown",
      "metadata": {
        "id": "VJS-k4Jltlia"
      },
      "source": [
        "**Keras Step 5 : Make Predictions**"
      ]
    },
    {
      "cell_type": "markdown",
      "metadata": {
        "id": "hgIt2hMLJpuZ"
      },
      "source": [
        "***Sample Codes***"
      ]
    },
    {
      "cell_type": "code",
      "metadata": {
        "colab": {
          "base_uri": "https://localhost:8080/"
        },
        "id": "tDmwt8QYth8e",
        "outputId": "ec487650-672a-4eed-becf-f5e806a1ad6f"
      },
      "source": [
        "# Getting the prediction probabilities based on test data\n",
        "SeqNN1a_predProb_y_test = model1a.predict(X_test)\n",
        "print('Probabilities:\\n', SeqNN1a_predProb_y_test.round(2))"
      ],
      "execution_count": null,
      "outputs": [
        {
          "output_type": "stream",
          "name": "stdout",
          "text": [
            "Probabilities:\n",
            " [[0.12 0.88]\n",
            " [0.07 0.93]\n",
            " [0.34 0.66]\n",
            " ...\n",
            " [0.95 0.05]\n",
            " [0.96 0.04]\n",
            " [1.   0.  ]]\n"
          ]
        }
      ]
    },
    {
      "cell_type": "code",
      "metadata": {
        "colab": {
          "base_uri": "https://localhost:8080/"
        },
        "id": "kUgTZJV3wKTk",
        "outputId": "e862de04-3e8a-4850-c78a-46d29f7ae122"
      },
      "source": [
        "# Getting the predicted class\n",
        "SeqNN1a_predClass_y_test = (SeqNN1a_predProb_y_test>0.5)\n",
        "print('Predicted classes:\\n', SeqNN1a_predClass_y_test)"
      ],
      "execution_count": null,
      "outputs": [
        {
          "output_type": "stream",
          "name": "stdout",
          "text": [
            "Predicted classes:\n",
            " [[False  True]\n",
            " [False  True]\n",
            " [False  True]\n",
            " ...\n",
            " [ True False]\n",
            " [ True False]\n",
            " [ True False]]\n"
          ]
        }
      ]
    },
    {
      "cell_type": "code",
      "metadata": {
        "colab": {
          "base_uri": "https://localhost:8080/"
        },
        "id": "sFu7ZqYQxa27",
        "outputId": "7202586e-8a5b-4132-b9b1-5a592ebb6571"
      },
      "source": [
        "# Getting the indices of predicted class\n",
        "SeqNN1a_pred_y_test = np.argmax(SeqNN1a_predClass_y_test, axis=1)\n",
        "print(f\"Predictions: {SeqNN1a_pred_y_test}\")\n"
      ],
      "execution_count": null,
      "outputs": [
        {
          "output_type": "stream",
          "name": "stdout",
          "text": [
            "Predictions: [1 1 1 ... 0 0 0]\n"
          ]
        }
      ]
    },
    {
      "cell_type": "markdown",
      "metadata": {
        "id": "c7Jy5Sq4H8dv"
      },
      "source": [
        "***Make Predictions for Training Dataset***"
      ]
    },
    {
      "cell_type": "code",
      "metadata": {
        "id": "fC6jOVQcIE4t"
      },
      "source": [
        "SeqNN1a_y_train_predProb = model1a.predict(X_train)\n",
        "SeqNN1a_y_train_predClass = (SeqNN1a_y_train_predProb>0.5)\n",
        "SeqNN1a_y_train_pred = np.argmax(SeqNN1a_y_train_predClass, axis=1)"
      ],
      "execution_count": null,
      "outputs": []
    },
    {
      "cell_type": "markdown",
      "metadata": {
        "id": "LuEQ-X4GHtfF"
      },
      "source": [
        "***Make Predictions for Test Dataset***"
      ]
    },
    {
      "cell_type": "code",
      "metadata": {
        "id": "lYVYG1QgI4e7"
      },
      "source": [
        "SeqNN1a_y_test_predProb = model1a.predict(X_test)\n",
        "SeqNN1a_y_test_predClass = (SeqNN1a_y_test_predProb>0.5)\n",
        "SeqNN1a_y_test_pred = np.argmax(SeqNN1a_y_test_predClass, axis=1)"
      ],
      "execution_count": null,
      "outputs": []
    },
    {
      "cell_type": "markdown",
      "metadata": {
        "id": "ZOLXbVIp7aPV"
      },
      "source": [
        "**Repeat to Predict using Model_1b**"
      ]
    },
    {
      "cell_type": "code",
      "metadata": {
        "id": "8hbCU5rH7aPW"
      },
      "source": [
        "#Make Predictions for Training Dataset\n",
        "SeqNN1b_y_train_predProb = model1b.predict(X_train)\n",
        "SeqNN1b_y_train_predClass = (SeqNN1b_y_train_predProb>0.5)\n",
        "SeqNN1b_y_train_pred = np.argmax(SeqNN1b_y_train_predClass, axis=1)\n",
        "\n",
        "#Make Predictions for Test Dataset\n",
        "SeqNN1b_y_test_predProb = model1b.predict(X_test)\n",
        "SeqNN1b_y_test_predClass = (SeqNN1b_y_test_predProb>0.5)\n",
        "SeqNN1b_y_test_pred = np.argmax(SeqNN1b_y_test_predClass, axis=1)"
      ],
      "execution_count": null,
      "outputs": []
    },
    {
      "cell_type": "markdown",
      "metadata": {
        "id": "7lk_TVeHyqGM"
      },
      "source": [
        "## 3. Model Performance"
      ]
    },
    {
      "cell_type": "code",
      "metadata": {
        "id": "Voemy1ljDXSR"
      },
      "source": [
        "def model_performance(y_pred, y_pred_prob, y_actual):\n",
        "\n",
        "  # Confusion Matrix Plot\n",
        "  from sklearn.metrics import confusion_matrix, ConfusionMatrixDisplay\n",
        "  cm_array = confusion_matrix(y_actual, y_pred, labels=[0,1])\n",
        "  cm = ConfusionMatrixDisplay(confusion_matrix=cm_array,display_labels=[0,1])\n",
        "  cm.plot()\n",
        "\n",
        "  # Confusion Matrix\n",
        "  from sklearn.metrics import confusion_matrix\n",
        "  print('Confusion matrix:\\n', confusion_matrix(y_actual, y_pred))\n",
        "\n",
        "  # Classification report\n",
        "  from sklearn.metrics import classification_report\n",
        "  print('\\nClassification report:\\n', classification_report(y_actual, y_pred, labels=[0,1]))\n",
        "\n",
        "  # ROC AUC\n",
        "  from sklearn.metrics import roc_auc_score\n",
        "  auc = roc_auc_score(y_actual, y_pred_prob[:, 1])\n",
        "  print('\\nROC AUC:\\n', auc)\n",
        "\n",
        "  # Accuracy\n",
        "  from sklearn.metrics import accuracy_score\n",
        "  print('\\nAccuracy:\\n', accuracy_score(y_actual, y_pred))\n",
        "  # Recall\n",
        "  from sklearn.metrics import recall_score\n",
        "  print('\\nRecall:\\n', recall_score(y_actual, y_pred))\n",
        "  # Precision\n",
        "  from sklearn.metrics import precision_score\n",
        "  print('\\nPrecision:\\n', precision_score(y_actual, y_pred))\n",
        "  # F1-score\n",
        "  from sklearn.metrics import f1_score\n",
        "  print('\\nF1-score:\\n', f1_score(y_actual, y_pred))"
      ],
      "execution_count": null,
      "outputs": []
    },
    {
      "cell_type": "code",
      "metadata": {
        "id": "h0BuVDdS9SoB"
      },
      "source": [
        "# roc curve and auc\n",
        "from sklearn.metrics import roc_curve\n",
        "from sklearn.metrics import roc_auc_score\n",
        "from matplotlib import pyplot"
      ],
      "execution_count": null,
      "outputs": []
    },
    {
      "cell_type": "code",
      "metadata": {
        "id": "S6_s5ifH1DT5"
      },
      "source": [
        "def roc_auc(y_pred_1, y_pred_prob_1, y_train, y_pred_2, y_pred_prob_2, y_test):\n",
        "  # calculate scores\n",
        "  null_probs = [0 for _ in range(len(y_train))]\n",
        "  null_auc = roc_auc_score(y_train, null_probs)\n",
        "  auc_1 = roc_auc_score(y_train, y_pred_prob_1[:, 1])\n",
        "  auc_2 = roc_auc_score(y_test, y_pred_prob_2[:, 1])\n",
        "\n",
        "  # summarize scores\n",
        "  print('Null: ROC AUC=%.3f' % (null_auc))\n",
        "  print('Training: ROC AUC=%.3f' % (auc_1))\n",
        "  print('Test: ROC AUC=%.3f' % (auc_2))\n",
        "\n",
        "  # calculate roc curves\n",
        "  null_fpr, null_tpr, _ = roc_curve(y_train, null_probs)\n",
        "  fpr_1, tpr_1, _ = roc_curve(y_train, y_pred_prob_1[:, 1])\n",
        "  fpr_2, tpr_2, _ = roc_curve(y_test, y_pred_prob_2[:, 1])\n",
        "\n",
        "  # plot the roc curve for the model\n",
        "  pyplot.plot(null_fpr, null_tpr, linestyle='--')\n",
        "  pyplot.plot(fpr_1, tpr_1, marker='.', label='Training')\n",
        "  pyplot.plot(fpr_2, tpr_2, marker='.', label='Test')\n",
        "  # axis labels\n",
        "  pyplot.xlabel('False Positive Rate')\n",
        "  pyplot.ylabel('True Positive Rate')\n",
        "  # show the legend\n",
        "  pyplot.legend()\n",
        "  # show the plot\n",
        "  pyplot.show()"
      ],
      "execution_count": null,
      "outputs": []
    },
    {
      "cell_type": "markdown",
      "metadata": {
        "id": "J5AcU6Zz9H0r"
      },
      "source": [
        "***Evaluate Model Performance of Model1a***"
      ]
    },
    {
      "cell_type": "code",
      "metadata": {
        "colab": {
          "base_uri": "https://localhost:8080/",
          "height": 830
        },
        "id": "gWE3FREAHjIp",
        "outputId": "659bdb82-a345-4e50-cdde-749393dda244"
      },
      "source": [
        "print(\"Model: \", \"SeqNN1a_train\",\"\\n\")\n",
        "model_performance(SeqNN1a_y_train_pred,SeqNN1a_y_train_predProb, y_train)"
      ],
      "execution_count": null,
      "outputs": [
        {
          "output_type": "stream",
          "name": "stdout",
          "text": [
            "Model:  SeqNN1a_train \n",
            "\n",
            "Confusion matrix:\n",
            " [[5967  684]\n",
            " [ 986 5663]]\n",
            "\n",
            "Classification report:\n",
            "               precision    recall  f1-score   support\n",
            "\n",
            "           0       0.86      0.90      0.88      6651\n",
            "           1       0.89      0.85      0.87      6649\n",
            "\n",
            "    accuracy                           0.87     13300\n",
            "   macro avg       0.88      0.87      0.87     13300\n",
            "weighted avg       0.88      0.87      0.87     13300\n",
            "\n",
            "\n",
            "ROC AUC:\n",
            " 0.9484259245503064\n",
            "\n",
            "Accuracy:\n",
            " 0.8744360902255639\n",
            "\n",
            "Recall:\n",
            " 0.8517070236125733\n",
            "\n",
            "Precision:\n",
            " 0.892232550811407\n",
            "\n",
            "F1-score:\n",
            " 0.8714989227454601\n"
          ]
        },
        {
          "output_type": "display_data",
          "data": {
            "image/png": "[encoded data removed]",
            "text/plain": [
              "<Figure size 432x288 with 2 Axes>"
            ]
          },
          "metadata": {
            "needs_background": "light"
          }
        }
      ]
    },
    {
      "cell_type": "code",
      "metadata": {
        "colab": {
          "base_uri": "https://localhost:8080/",
          "height": 830
        },
        "id": "vc3tDhECK-EF",
        "outputId": "6e368a54-f6ba-4555-93a1-2dc31b4811a6"
      },
      "source": [
        "print(\"Model: \", \"SeqNN1a_test\",\"\\n\")\n",
        "model_performance(SeqNN1a_y_test_pred,SeqNN1a_y_test_predProb, y_test)"
      ],
      "execution_count": null,
      "outputs": [
        {
          "output_type": "stream",
          "name": "stdout",
          "text": [
            "Model:  SeqNN1a_test \n",
            "\n",
            "Confusion matrix:\n",
            " [[1890  219]\n",
            " [  83  274]]\n",
            "\n",
            "Classification report:\n",
            "               precision    recall  f1-score   support\n",
            "\n",
            "           0       0.96      0.90      0.93      2109\n",
            "           1       0.56      0.77      0.64       357\n",
            "\n",
            "    accuracy                           0.88      2466\n",
            "   macro avg       0.76      0.83      0.79      2466\n",
            "weighted avg       0.90      0.88      0.89      2466\n",
            "\n",
            "\n",
            "ROC AUC:\n",
            " 0.9103555125226952\n",
            "\n",
            "Accuracy:\n",
            " 0.8775344687753447\n",
            "\n",
            "Recall:\n",
            " 0.7675070028011205\n",
            "\n",
            "Precision:\n",
            " 0.5557809330628803\n",
            "\n",
            "F1-score:\n",
            " 0.6447058823529412\n"
          ]
        },
        {
          "output_type": "display_data",
          "data": {
            "image/png": "[encoded data removed]",
            "text/plain": [
              "<Figure size 432x288 with 2 Axes>"
            ]
          },
          "metadata": {
            "needs_background": "light"
          }
        }
      ]
    },
    {
      "cell_type": "code",
      "metadata": {
        "colab": {
          "base_uri": "https://localhost:8080/",
          "height": 350
        },
        "id": "kuAB8eEQ60S3",
        "outputId": "5e8646f4-7c1a-42c5-eb0d-c66fbff2abdf"
      },
      "source": [
        "print(\"Model: \", \"SeqNN1a\")\n",
        "roc_auc(SeqNN1a_y_train_pred, SeqNN1a_y_train_predProb, y_train, SeqNN1a_y_test_pred, SeqNN1a_y_test_predProb, y_test)"
      ],
      "execution_count": null,
      "outputs": [
        {
          "output_type": "stream",
          "name": "stdout",
          "text": [
            "Model:  SeqNN1a\n",
            "Null: ROC AUC=0.500\n",
            "Training: ROC AUC=0.948\n",
            "Test: ROC AUC=0.910\n"
          ]
        },
        {
          "output_type": "display_data",
          "data": {
            "image/png": "[encoded data removed]",
            "text/plain": [
              "<Figure size 432x288 with 1 Axes>"
            ]
          },
          "metadata": {
            "needs_background": "light"
          }
        }
      ]
    },
    {
      "cell_type": "markdown",
      "metadata": {
        "id": "Aj4JarVM9T_f"
      },
      "source": [
        "***Evaluate Model Performance of Model1b***"
      ]
    },
    {
      "cell_type": "code",
      "metadata": {
        "colab": {
          "base_uri": "https://localhost:8080/",
          "height": 830
        },
        "id": "QgcOHrOq9mby",
        "outputId": "4e868bd3-b920-42a0-a150-143776ab38f3"
      },
      "source": [
        "print(\"Model: \", \"SeqNN1b_train\",\"\\n\")\n",
        "model_performance(SeqNN1b_y_train_pred,SeqNN1b_y_train_predProb, y_train)"
      ],
      "execution_count": null,
      "outputs": [
        {
          "output_type": "stream",
          "name": "stdout",
          "text": [
            "Model:  SeqNN1b_train \n",
            "\n",
            "Confusion matrix:\n",
            " [[5768  883]\n",
            " [ 697 5952]]\n",
            "\n",
            "Classification report:\n",
            "               precision    recall  f1-score   support\n",
            "\n",
            "           0       0.89      0.87      0.88      6651\n",
            "           1       0.87      0.90      0.88      6649\n",
            "\n",
            "    accuracy                           0.88     13300\n",
            "   macro avg       0.88      0.88      0.88     13300\n",
            "weighted avg       0.88      0.88      0.88     13300\n",
            "\n",
            "\n",
            "ROC AUC:\n",
            " 0.9507349301992183\n",
            "\n",
            "Accuracy:\n",
            " 0.881203007518797\n",
            "\n",
            "Recall:\n",
            " 0.895172206346819\n",
            "\n",
            "Precision:\n",
            " 0.8708119970738845\n",
            "\n",
            "F1-score:\n",
            " 0.8828240878077722\n"
          ]
        },
        {
          "output_type": "display_data",
          "data": {
            "image/png": "[encoded data removed]",
            "text/plain": [
              "<Figure size 432x288 with 2 Axes>"
            ]
          },
          "metadata": {
            "needs_background": "light"
          }
        }
      ]
    },
    {
      "cell_type": "code",
      "metadata": {
        "colab": {
          "base_uri": "https://localhost:8080/",
          "height": 830
        },
        "id": "_hyFFdX-9mbz",
        "outputId": "1a221caf-bd63-456e-c373-f8a69a0fcd4e"
      },
      "source": [
        "print(\"Model: \", \"SeqNN1b_test\",\"\\n\")\n",
        "model_performance(SeqNN1b_y_test_pred,SeqNN1b_y_test_predProb, y_test)"
      ],
      "execution_count": null,
      "outputs": [
        {
          "output_type": "stream",
          "name": "stdout",
          "text": [
            "Model:  SeqNN1b_test \n",
            "\n",
            "Confusion matrix:\n",
            " [[1836  273]\n",
            " [  70  287]]\n",
            "\n",
            "Classification report:\n",
            "               precision    recall  f1-score   support\n",
            "\n",
            "           0       0.96      0.87      0.91      2109\n",
            "           1       0.51      0.80      0.63       357\n",
            "\n",
            "    accuracy                           0.86      2466\n",
            "   macro avg       0.74      0.84      0.77      2466\n",
            "weighted avg       0.90      0.86      0.87      2466\n",
            "\n",
            "\n",
            "ROC AUC:\n",
            " 0.9053363403208603\n",
            "\n",
            "Accuracy:\n",
            " 0.8609083536090836\n",
            "\n",
            "Recall:\n",
            " 0.803921568627451\n",
            "\n",
            "Precision:\n",
            " 0.5125\n",
            "\n",
            "F1-score:\n",
            " 0.6259541984732824\n"
          ]
        },
        {
          "output_type": "display_data",
          "data": {
            "image/png": "[encoded data removed]",
            "text/plain": [
              "<Figure size 432x288 with 2 Axes>"
            ]
          },
          "metadata": {
            "needs_background": "light"
          }
        }
      ]
    },
    {
      "cell_type": "code",
      "metadata": {
        "colab": {
          "base_uri": "https://localhost:8080/",
          "height": 350
        },
        "id": "7_VNNJlc9mb0",
        "outputId": "9d25c290-4ad9-4af2-b6ac-fbec1ad4eea1"
      },
      "source": [
        "print(\"Model: \", \"SeqNN1b\")\n",
        "roc_auc(SeqNN1b_y_train_pred, SeqNN1b_y_train_predProb, y_train, SeqNN1b_y_test_pred, SeqNN1b_y_test_predProb, y_test)"
      ],
      "execution_count": null,
      "outputs": [
        {
          "output_type": "stream",
          "name": "stdout",
          "text": [
            "Model:  SeqNN1b\n",
            "Null: ROC AUC=0.500\n",
            "Training: ROC AUC=0.951\n",
            "Test: ROC AUC=0.905\n"
          ]
        },
        {
          "output_type": "display_data",
          "data": {
            "image/png": "[encoded data removed]",
            "text/plain": [
              "<Figure size 432x288 with 1 Axes>"
            ]
          },
          "metadata": {
            "needs_background": "light"
          }
        }
      ]
    }
  ]
}